{
 "cells": [
  {
   "cell_type": "markdown",
   "id": "provincial-bridal",
   "metadata": {},
   "source": [
    "# Long Text Abstractive Summarization"
   ]
  },
  {
   "cell_type": "markdown",
   "id": "possible-reset",
   "metadata": {},
   "source": [
    "<div class=\"alert alert-info\">\n",
    "\n",
    "This tutorial is available as an IPython notebook at [Malaya/example/long-text-abstractive](https://github.com/huseinzol05/Malaya/tree/master/example/long-text-abstractive).\n",
    "    \n",
    "</div>"
   ]
  },
  {
   "cell_type": "markdown",
   "id": "blond-helping",
   "metadata": {},
   "source": [
    "<div class=\"alert alert-warning\">\n",
    "\n",
    "This module only trained on standard language structure, so it is not save to use it for local language structure.\n",
    "    \n",
    "</div>"
   ]
  },
  {
   "cell_type": "markdown",
   "id": "color-divide",
   "metadata": {},
   "source": [
    "<div class=\"alert alert-warning\">\n",
    "\n",
    "This module trained heavily on news structure.\n",
    "    \n",
    "</div>"
   ]
  },
  {
   "cell_type": "code",
   "execution_count": 1,
   "id": "dynamic-apparatus",
   "metadata": {},
   "outputs": [
    {
     "name": "stdout",
     "output_type": "stream",
     "text": [
      "CPU times: user 4.22 s, sys: 508 ms, total: 4.73 s\n",
      "Wall time: 3.83 s\n"
     ]
    }
   ],
   "source": [
    "%%time\n",
    "import malaya\n",
    "from pprint import pprint"
   ]
  },
  {
   "cell_type": "code",
   "execution_count": 2,
   "id": "qualified-rally",
   "metadata": {},
   "outputs": [],
   "source": [
    "import re\n",
    "\n",
    "# minimum cleaning, just simply to remove newlines.\n",
    "def cleaning(string):\n",
    "    string = string.replace('\\n', ' ')\n",
    "    string = re.sub(r'[ ]+', ' ', string).strip()\n",
    "    return string"
   ]
  },
  {
   "cell_type": "markdown",
   "id": "nutritional-library",
   "metadata": {},
   "source": [
    "### List available Transformer models"
   ]
  },
  {
   "cell_type": "code",
   "execution_count": 3,
   "id": "amber-facing",
   "metadata": {},
   "outputs": [
    {
     "name": "stderr",
     "output_type": "stream",
     "text": [
      "INFO:root:tested on 5k CNN test set.\n"
     ]
    },
    {
     "data": {
      "text/html": [
       "<div>\n",
       "<style scoped>\n",
       "    .dataframe tbody tr th:only-of-type {\n",
       "        vertical-align: middle;\n",
       "    }\n",
       "\n",
       "    .dataframe tbody tr th {\n",
       "        vertical-align: top;\n",
       "    }\n",
       "\n",
       "    .dataframe thead th {\n",
       "        text-align: right;\n",
       "    }\n",
       "</style>\n",
       "<table border=\"1\" class=\"dataframe\">\n",
       "  <thead>\n",
       "    <tr style=\"text-align: right;\">\n",
       "      <th></th>\n",
       "      <th>Size (MB)</th>\n",
       "      <th>Quantized Size (MB)</th>\n",
       "      <th>ROUGE-1</th>\n",
       "      <th>ROUGE-2</th>\n",
       "      <th>ROUGE-L</th>\n",
       "      <th>Suggested length</th>\n",
       "    </tr>\n",
       "  </thead>\n",
       "  <tbody>\n",
       "    <tr>\n",
       "      <th>t2t</th>\n",
       "      <td>832.0</td>\n",
       "      <td>279.0</td>\n",
       "      <td>0.33209</td>\n",
       "      <td>0.13622</td>\n",
       "      <td>0.23348</td>\n",
       "      <td>1024.0</td>\n",
       "    </tr>\n",
       "    <tr>\n",
       "      <th>small-t2t</th>\n",
       "      <td>379.0</td>\n",
       "      <td>120.0</td>\n",
       "      <td>0.33000</td>\n",
       "      <td>0.13417</td>\n",
       "      <td>0.23059</td>\n",
       "      <td>1024.0</td>\n",
       "    </tr>\n",
       "    <tr>\n",
       "      <th>t2t-distill</th>\n",
       "      <td>164.0</td>\n",
       "      <td>48.8</td>\n",
       "      <td>0.28079</td>\n",
       "      <td>0.08540</td>\n",
       "      <td>0.20136</td>\n",
       "      <td>1024.0</td>\n",
       "    </tr>\n",
       "    <tr>\n",
       "      <th>t5</th>\n",
       "      <td>1250.0</td>\n",
       "      <td>481.0</td>\n",
       "      <td>0.34103</td>\n",
       "      <td>0.14994</td>\n",
       "      <td>0.23655</td>\n",
       "      <td>1024.0</td>\n",
       "    </tr>\n",
       "    <tr>\n",
       "      <th>small-t5</th>\n",
       "      <td>355.6</td>\n",
       "      <td>195.0</td>\n",
       "      <td>0.33854</td>\n",
       "      <td>0.14588</td>\n",
       "      <td>0.23528</td>\n",
       "      <td>1024.0</td>\n",
       "    </tr>\n",
       "    <tr>\n",
       "      <th>bigbird</th>\n",
       "      <td>910.0</td>\n",
       "      <td>230.0</td>\n",
       "      <td>0.30683</td>\n",
       "      <td>0.09940</td>\n",
       "      <td>0.20232</td>\n",
       "      <td>2048.0</td>\n",
       "    </tr>\n",
       "    <tr>\n",
       "      <th>small-bigbird</th>\n",
       "      <td>303.0</td>\n",
       "      <td>77.3</td>\n",
       "      <td>0.27540</td>\n",
       "      <td>0.08540</td>\n",
       "      <td>0.18890</td>\n",
       "      <td>2048.0</td>\n",
       "    </tr>\n",
       "    <tr>\n",
       "      <th>pegasus</th>\n",
       "      <td>894.0</td>\n",
       "      <td>225.0</td>\n",
       "      <td>0.30352</td>\n",
       "      <td>0.10379</td>\n",
       "      <td>0.20590</td>\n",
       "      <td>1024.0</td>\n",
       "    </tr>\n",
       "    <tr>\n",
       "      <th>small-pegasus</th>\n",
       "      <td>293.0</td>\n",
       "      <td>74.2</td>\n",
       "      <td>0.29450</td>\n",
       "      <td>0.11480</td>\n",
       "      <td>0.20970</td>\n",
       "      <td>1024.0</td>\n",
       "    </tr>\n",
       "  </tbody>\n",
       "</table>\n",
       "</div>"
      ],
      "text/plain": [
       "               Size (MB)  Quantized Size (MB)  ROUGE-1  ROUGE-2  ROUGE-L  \\\n",
       "t2t                832.0                279.0  0.33209  0.13622  0.23348   \n",
       "small-t2t          379.0                120.0  0.33000  0.13417  0.23059   \n",
       "t2t-distill        164.0                 48.8  0.28079  0.08540  0.20136   \n",
       "t5                1250.0                481.0  0.34103  0.14994  0.23655   \n",
       "small-t5           355.6                195.0  0.33854  0.14588  0.23528   \n",
       "bigbird            910.0                230.0  0.30683  0.09940  0.20232   \n",
       "small-bigbird      303.0                 77.3  0.27540  0.08540  0.18890   \n",
       "pegasus            894.0                225.0  0.30352  0.10379  0.20590   \n",
       "small-pegasus      293.0                 74.2  0.29450  0.11480  0.20970   \n",
       "\n",
       "               Suggested length  \n",
       "t2t                      1024.0  \n",
       "small-t2t                1024.0  \n",
       "t2t-distill              1024.0  \n",
       "t5                       1024.0  \n",
       "small-t5                 1024.0  \n",
       "bigbird                  2048.0  \n",
       "small-bigbird            2048.0  \n",
       "pegasus                  1024.0  \n",
       "small-pegasus            1024.0  "
      ]
     },
     "execution_count": 3,
     "metadata": {},
     "output_type": "execute_result"
    }
   ],
   "source": [
    "malaya.summarization.abstractive.available_transformer()"
   ]
  },
  {
   "cell_type": "markdown",
   "id": "coral-invasion",
   "metadata": {},
   "source": [
    "If you look at `Suggested length`, bigbird 2x longer than T5 models.\n",
    "\n",
    "We are going to compare `t5` models with `small-bigbird` and `bigbird` models."
   ]
  },
  {
   "cell_type": "markdown",
   "id": "technical-investigator",
   "metadata": {},
   "source": [
    "Below is an example I combined 3 news become 1 string."
   ]
  },
  {
   "cell_type": "code",
   "execution_count": 4,
   "id": "polyphonic-niger",
   "metadata": {},
   "outputs": [],
   "source": [
    "# https://www.astroawani.com/berita-malaysia/lagipun-kalau-isu-yang-berlaku-198788-najib-boleh-ingat-dia-nak-mandikan-keris-dengan-darah-tun-m-282301\n",
    "# https://www.bharian.com.my/berita/nasional/2021/02/785400/kabinet-tidak-pernah-bangkitkan-isu-konflik-kepentingan-najib\n",
    "# https://www.astroawani.com/berita-malaysia/laporan-audit-1mdb-najib-gagal-gugurkan-sri-ram-daripada-pasukan-pendakwaan-283003\n",
    "# https://www.astroawani.com/berita-politik/tun-m-menyesal-lantik-tommy-thomas-sebagai-peguam-negara-281460\n",
    "# https://www.astroawani.com/berita-malaysia/tun-mahathir-mahu-saya-letak-jawatan-kerana-tentangan-orang-melayu-tommy-thomas-280066\n",
    "\n",
    "string = \"\"\"\n",
    "Perseteruan antara dua bekas Perdana Menteri, Tun Dr Mahathir Mohamad dan Datuk Seri Najib Tun Razak belum ada penghujungnya dengan masing-masing berbalas kenyataan di media sosial.\n",
    "Selepas Najib menyanggah kenyataan tidak campur tangan dalam badan kehakiman negara dan mentertawakannya, Dr Mahathir membalasnya dengan meminta Ahli Parlimen Pekan itu memberi perhatian kepada kes 1Malaysia Development Berhad (1MDB).\n",
    "Dr Mahathir juga secara sinis berkata, jika Najib boleh mengingati isu yang berlaku pada 1987 dan 1988 - isu pemilihan UMNO dan pengharaman parti itu, Najib juga boleh mengingati peristiwa dia ingin mandikan keris dengan darah.\n",
    "\"Saya rasa Najib tak payah campur tangan dengan tuduhan terhadap saya. Dia harus fokus kes curi duit rakyat berbilion-bilion dalam 1MDB.\n",
    "\"Dia juga perlu bagi perhatian saman Tommy Thomas yang kait dia dengan pembunuhan Altantuya. Lagipun, kalau isu yang berlaku 1987/88, Najib boleh ingat (peristiwa) yang dia 'hunus' keris,\" kata Dr Mahathir.\n",
    "Sebelum ini, Najib menyanggah dakwaan Dr Mahathir yang mendakwa pembatalan pendaftaran UMNO pada 1998 sebagai bukti tidak campur tangan dalam badan kehakiman negara.\n",
    "Menyokong hujahnya, Najib berkongsi apa yang berlaku pada tahun tersebut hingga menyebabkan UMNO diharamkan dan tertubuhnya UMNO baharu.\n",
    "\n",
    "Mahkamah Tinggi di sini, hari ini, diberitahu Kabinet tidak pernah membangkitkan isu mengenai konflik kepentingan Datuk Seri Najib Razak dalam 1Malaysia Development Berhad (1MDB).\n",
    "\n",
    "Menurut Kod Etika Bagi Anggota Pentadbiran dan Ahli Parlimen adalah menjadi amalan ahli Kabinet untuk mengisytiharkan konflik kepentingan sekiranya mempunyai pembabitan di dalam hal yang dibincangkan dalam Mesyuarat Jemaah Menteri.\n",
    "\n",
    "Perkara itu dimaklumkan bekas Timbalan Ketua Setiausaha (Kabinet) Bahagian Kabinet Perlembagaan dan Perhubungan Jabatan Perdana Menteri (JPM), Tan Sri Mazidah Abdul Majid, dalam keterangannya pada perbicaraan kes 1MDB yang dihadapi Najib.\n",
    "\n",
    "Kod etika itu antara lain turut menyatakan bahawa ahli Kabinet yang mempunyai kepentingan peribadi dan bercanggah dengan kepentingan kerajaan, atau membabitkan ahli keluarga, perlu meninggalkan mesyuarat dan merekodkan ketidakhadiran mereka.\n",
    "\n",
    "Di dalam 1MDB, Najib memegang tiga jawatan iaitu Perdana Menteri, Menteri Kewangan dan Pengerusi Pengerusi Badan Penasihat 1MDB\n",
    "\n",
    "Menjawab soalan peguam Tan Sri Muhammad Shafee Abdullah, sama ada terdapat ahli Kabinet yang membangkitkan isu bahawa Menteri Kewangan tidak seharusnya membabitkan diri dalam perbincangan itu kerana konflik kepentingan, Maziah menjawab: \"Tiada.\"\n",
    "\n",
    "Muhammad Shafee: Ada sesiapa yang membangkitkan perkara berhubung hal 1MBD dengan Najib?\n",
    "\n",
    "Maziah: Tidak\n",
    "\n",
    "Muhammad Shafee: Timbalan Perdana Menteri (ketika itu) adalah Tan Sri Muhyiddin Yassin, manakala Datuk Seri Ahmad Husni Hanadzlah adalah bekas Menteri Kewangan II. Mereka juga tidak pernah membangkitkan hal konflik kepentingan?\n",
    "\n",
    "Mazidah: Ya, tidak pernah.\n",
    "\n",
    "Sementara itu, menjawab soalan Timbalan Pendakwa Raya, Ahmad Akram Gharib sama ada beliau mengetahui bahawa Najib mempunyai kepentingan peribadi dalam 1MDB, Mazidah berkata: \"Tidak\"\n",
    "\n",
    "Ahmad Akram: Adakah anda mengetahui bahawa Najib secara peribadi menerima duit daripada 1MDB?\n",
    "\n",
    "Maziah: Tidak\n",
    "\n",
    "Ahmad Akram: Sekiranya Najib secara peribadi menerima wang daripada 1MDB adakah itu konflik kepentingan dan melanggar Kod Etika Bagi Anggota Pentadbiran dan Ahli Parlimen.\n",
    "\n",
    "Maziah: Menurut pandangan peribadi saya, ya, namun kerana ia membabitkan menteri dan perdana menteri, saya cadangkan untuk dapatkan pandangan Peguam Negara.\n",
    "\n",
    "Terdahulu, di awal prosiding, Maziah turut memberitahu mahkamah bahawa Najib tidak pernah menyebut nama ahli perniagaan dalam buruan, Low Taek Jho atau Jho Low pada mesyuarat Kabinet sebagai individu yang membantu beliau mendapatkan sumbangan daripada kerabat diraja Arab Saudi.\n",
    "\n",
    "\"Sekiranya perkara itu dimaklumkan kepada Kabinet, maka, ia akan dicatat dalam minit mesyuarat,\" katanya.\n",
    "\n",
    "Tambah Maziah, beliau hanya mendengar dan mengetahui mengenai nama Jho Low selepas timbul isu membabitkan 1MDB.\n",
    "\n",
    "Najib, 68, menghadapi empat pertuduhan menggunakan kedudukannya untuk memperoleh suapan berjumlah RM2.3 bilion daripada dana 1MDB dan 21 pertuduhan pengubahan wang haram membabitkan jumlah wang yang sama.\n",
    "\n",
    "Perbicaraan di hadapan Hakim Collin Lawrence Sequerah bersambung Isnin ini.\n",
    "\n",
    "Datuk Seri Najib Tun Razak hari ini gagal dalam satu lagi cubaannya untuk menggugurkan bekas Hakim Mahkamah Persekutuan Datuk Seri Gopal Sri Ram daripada mengetuai pasukan pendakwaan dalam kes meminda laporan audit 1Malaysia Development Berhad (1MDB) melibatkan bekas perdana menteri itu.\n",
    "Ini merupakan cubaan kali ketiga Najib untuk menggugurkan Sri Ram sebagai pendakwa dalam kes jenayah berkaitan 1MDB itu. Sebelum ini, satu permohonan difailkan dalam satu lagi kes 1MDB di hadapan hakim berbeza dan cubaan kedua menerusi prosiding sivil.\n",
    "Ketika menolak permohonan Ahli Parlimen Pekan itu, Hakim Mahkamah Tinggi Mohamed Zaini Mazlan berkata dakwaan Najib bahawa Sri Ram terlibat dalam siasatan terhadapnya sebagai tidak ada merit.\n",
    "“Tidak ada bukti kukuh untuk menyokong dakwaan pemohon dan kekal sebagai hipotesis semata-mata. Isu ini telah disiasat oleh pihak pendakwaan selaku responden semasa permohonan pemohon (Najib) yang terdahulu.\n",
    "“Isu ini sudah dibincangkan dan diputuskan. Keputusan oleh mahkamah lain sebelum ini kekal dan tidak boleh diterbalikkan,” kata hakim.\n",
    "Mohamed Zaini ketika memberi alasan penolakan berkata pemohon, antara lain, menjadikan komunikasi di antara bekas Peguam Negara Tan Sri Mohamed Apandi Ali dan Sri Ram sebagai bukti berat sebelah Sri Ram terhadap pemohon dan kebimbangan pemohon berhubung perkara itu adalah tidak berasas.\n",
    "“Seperti juga individu lain, Sri Ram berhak mempunyai pandangan peribadi. Itu sahaja. Namun, pertimbangan berbeza akan dibuat jika beliau menunjukkan sikap berat sebelah semasa melaksanakan tugas sebagai pendakwa raya kanan. Pandangan peribadi beliau tidak boleh dianggap akan menghalang tanggungjawab beliau sebagai pendakwa raya kanan.\n",
    "“Tambahan pula, kejadian itu, seperti yang dikemukakan oleh responden, berlaku ketika sebelum pelantikan Sri Ram sebagai pendakwa raya kanan. Turut penting ialah pemohon tidak membuat sebarang aduan mengenai tindak-tanduk Sri Ram ketika menjalankan perbicaraan melibatkan pemohon. Ini mengukuhkan hujah responden bahawa Sri Ram bersikap terbuka semasa menjalankan tugas sebagai pendakwa raya kanan,” kata hakim.\n",
    "Mohamed Zaini seterusnya berkata pada akhirnya, mahkamah bertanggungjawab memastikan sesebuah perbicaraan dilaksanakan secara adil demi mendapatkan keadilan.\n",
    "“Mahkamah akan membantu mana-mana pihak yang dilayan secara tidak adil, jika perkara tersebut berlaku. Sehubunggan itu, permohonan pemohon ditolak,” katanya.\n",
    "Perbicaraan kes laporan audit 1MDB itu akan bersambung pada 22 Feb ini.\n",
    "Pada prosiding hari ini, Timbalan Pendakwa Raya Ahmad Akram Gharib bertindak bagi pihak pendakwaan, manakala Najib diwakili peguam Nur Syahirah Hanapiah.\n",
    "Najib, 67, dan bekas Ketua Pegawai Eksekutif 1MDB Arul Kanda Kandasamy, 45, dibicarakan atas tuduhan meminda laporan audit 1MDB.\n",
    "Ahli Parlimen Pekan itu dituduh menggunakan kedudukannya untuk mengarahkan pindaan ke atas laporan audit akhir 1MDB sebelum dibentangkan kepada Jawatankuasa Kira-Kira Wang Negara bagi mengelakkan sebarang tindakan diambil terhadapnya, sementara Arul Kanda didakwa bersubahat dengan Najib dalam membuat pindaan ke atas laporan tersebut bagi melindungi Najib daripada dikenakan tindakan.\n",
    "\"\"\"\n",
    "\n",
    "string = cleaning(string)"
   ]
  },
  {
   "cell_type": "code",
   "execution_count": 5,
   "id": "first-departure",
   "metadata": {},
   "outputs": [
    {
     "data": {
      "text/plain": [
       "1020"
      ]
     },
     "execution_count": 5,
     "metadata": {},
     "output_type": "execute_result"
    }
   ],
   "source": [
    "len(string.split())"
   ]
  },
  {
   "cell_type": "markdown",
   "id": "matched-feedback",
   "metadata": {},
   "source": [
    "### Load Transformer models\n",
    "\n",
    "```python\n",
    "def transformer(model: str = 't2t', quantized: bool = False, **kwargs):\n",
    "\n",
    "    \"\"\"\n",
    "    Load Malaya transformer encoder-decoder model to generate a summary given a string.\n",
    "\n",
    "    Parameters\n",
    "    ----------\n",
    "    model : str, optional (default='t2t')\n",
    "        Model architecture supported. Allowed values:\n",
    "\n",
    "        * ``'t2t'`` - Malaya Transformer BASE parameters.\n",
    "        * ``'small-t2t'`` - Malaya Transformer SMALL parameters.\n",
    "        * ``'t2t-distill'`` - Distilled Malaya Transformer BASE parameters.\n",
    "        * ``'t5'`` - T5 BASE parameters.\n",
    "        * ``'small-t5'`` - T5 SMALL parameters.\n",
    "        * ``'bigbird'`` - BigBird + Pegasus BASE parameters.\n",
    "        * ``'small-bigbird'`` - BigBird + Pegasus SMALL parameters.\n",
    "        * ``'pegasus'`` - Pegasus BASE parameters.\n",
    "        * ``'small-pegasus'`` - Pegasus SMALL parameters.\n",
    "    \n",
    "    quantized : bool, optional (default=False)\n",
    "        if True, will load 8-bit quantized model. \n",
    "        Quantized model not necessary faster, totally depends on the machine.\n",
    "\n",
    "    Returns\n",
    "    -------\n",
    "    result: model\n",
    "        List of model classes:\n",
    "        \n",
    "        * if `t2t` in model, will return `malaya.model.tf.Summarization`.\n",
    "        * if `t5` in model, will return `malaya.model.t5.Summarization`.\n",
    "        * if `bigbird` in model, will return `malaya.model.bigbird.Summarization`.\n",
    "        * if `pegasus` in model, will return `malaya.model.pegasus.Summarization`.\n",
    "    \"\"\"\n",
    "```"
   ]
  },
  {
   "cell_type": "code",
   "execution_count": 6,
   "id": "greenhouse-japanese",
   "metadata": {},
   "outputs": [
    {
     "name": "stderr",
     "output_type": "stream",
     "text": [
      "WARNING:root:Load quantized model will cause accuracy drop.\n"
     ]
    }
   ],
   "source": [
    "t5 = malaya.summarization.abstractive.transformer(model = 't5', quantized = True)"
   ]
  },
  {
   "cell_type": "code",
   "execution_count": 10,
   "id": "prescribed-sydney",
   "metadata": {},
   "outputs": [],
   "source": [
    "bigbird = malaya.summarization.abstractive.transformer(model = 'bigbird', quantized = True)\n",
    "bigbird_small = malaya.summarization.abstractive.transformer(model = 'small-bigbird', quantized = True)"
   ]
  },
  {
   "cell_type": "markdown",
   "id": "single-tennis",
   "metadata": {},
   "source": [
    "#### Predict using greedy decoder\n",
    "\n",
    "```python\n",
    "def greedy_decoder(\n",
    "    self,\n",
    "    strings: List[str],\n",
    "    mode: str = 'ringkasan',\n",
    "    postprocess: bool = True,\n",
    "    **kwargs,\n",
    "):\n",
    "    \"\"\"\n",
    "    Summarize strings using greedy decoder.\n",
    "\n",
    "    Parameters\n",
    "    ----------\n",
    "    strings: List[str]\n",
    "    mode: str\n",
    "        mode for summarization. Allowed values:\n",
    "\n",
    "        * ``'ringkasan'`` - summarization for long sentence, eg, news summarization.\n",
    "        * ``'tajuk'`` - title summarization for long sentence, eg, news title.\n",
    "    postprocess: bool, optional (default=True)\n",
    "        If True, will filter sentence generated using ROUGE score and removed international news publisher.\n",
    "\n",
    "    Returns\n",
    "    -------\n",
    "    result: List[str]\n",
    "    \"\"\"\n",
    "```\n",
    "\n",
    "**For T5, we only provided `greedy_decoder` method to predict.**\n",
    "\n",
    "**`pegasus` and `bigbird` do not have summarization mode**."
   ]
  },
  {
   "cell_type": "code",
   "execution_count": 8,
   "id": "portuguese-compilation",
   "metadata": {},
   "outputs": [
    {
     "name": "stdout",
     "output_type": "stream",
     "text": [
      "['Perdana Menteri, Dr Mahathir membalas dengan meminta Najib untuk memberi '\n",
      " 'perhatian kepada kes 1MDB. Mahkamah Tinggi diberitahu Kabinet tidak pernah '\n",
      " 'membangkitkan isu konflik kepentingan Najib. Hakim menolak permintaan Najib '\n",
      " 'untuk menggugurkan Hakim Mahkamah Persekutuan Gopal Sri Ram. Ini adalah '\n",
      " 'percubaan ketiga Najib untuk menggugurkan Sri Ram sebagai pendakwa dalam kes '\n",
      " '1MDB.']\n"
     ]
    }
   ],
   "source": [
    "pprint(t5.greedy_decoder([string], mode = 'ringkasan'))"
   ]
  },
  {
   "cell_type": "code",
   "execution_count": null,
   "id": "musical-logistics",
   "metadata": {},
   "outputs": [],
   "source": [
    "pprint(bigbird.greedy_decoder([string]))"
   ]
  },
  {
   "cell_type": "code",
   "execution_count": 8,
   "id": "latter-flesh",
   "metadata": {},
   "outputs": [
    {
     "name": "stdout",
     "output_type": "stream",
     "text": [
      "['- Perbicaraan Perbicaraan 1MDB terhadap Najib Razak hari ini melibatkan '\n",
      " 'bekas Timbalan Ketua Pegawai Eksekutif Najib, Arul Kanda, dan bekas Timbalan '\n",
      " 'Ketua Pegawai Eksekutif Najib, Sequerah Lawrence Collina, telah mendapat '\n",
      " 'banyak perhatian. Perbicaraan itu adalah kali ketiga dalam kes 1MDB, dan '\n",
      " 'Najib dituduh menggunakan kedudukannya dalam kes 1MDB. Peguam Negara, Najib '\n",
      " 'Razak, bagaimanapun, mengatakan bahawa dia tidak pernah mendengar mengenai '\n",
      " 'perkara itu, dan dia tidak pernah mendengar mengenai perkara itu. \"Tidak ada '\n",
      " 'bukti kukuh bahawa Najib dalam kes 1MDB terlibat dalam kes 1MDB, namun saya '\n",
      " 'cadangkan prosiding mahkamah untuk mendapatkan pandangan daripada ahli '\n",
      " 'politik,\" katanya. \"Saya rasa Dr. Mahathir boleh mengingati peristiwa '\n",
      " 'peristiwa darah yang berlaku pada 1988. \" Najib juga mengatakan bahawa dia '\n",
      " 'tidak boleh mengingati peristiwa darah yang berlaku pada tahun 1988. \"Saya '\n",
      " 'rasa Dr. Mahathir juga ingin mengingati peristiwa darah yang berlaku pada '\n",
      " 'tahun 1988.']\n"
     ]
    }
   ],
   "source": [
    "pprint(bigbird_small.greedy_decoder([string], temperature = 0.5))"
   ]
  },
  {
   "cell_type": "markdown",
   "id": "genuine-turtle",
   "metadata": {},
   "source": [
    "#### Predict using nucleus decoder\n",
    "\n",
    "```python\n",
    "def nucleus_decoder(\n",
    "    self,\n",
    "    strings: List[str],\n",
    "    top_p: float = 0.7,\n",
    "    temperature: float = 0.3,\n",
    "    postprocess: bool = True,\n",
    "    **kwargs,\n",
    "):\n",
    "    \"\"\"\n",
    "    Summarize strings using nucleus decoder.\n",
    "\n",
    "    Parameters\n",
    "    ----------\n",
    "    strings: List[str]\n",
    "    top_p: float, (default=0.7)\n",
    "        cumulative distribution and cut off as soon as the CDF exceeds `top_p`.\n",
    "    temperature: float, (default=0.3)\n",
    "        logits * -log(random.uniform) * temperature.\n",
    "    postprocess: bool, optional (default=True)\n",
    "        If True, will filter sentence generated using ROUGE score and removed international news publisher.\n",
    "\n",
    "    Returns\n",
    "    -------\n",
    "    result: List[str]\n",
    "    \"\"\"\n",
    "```\n",
    "\n",
    "**For T5, we only provided `greedy_decoder` method to predict.**\n",
    "\n",
    "**`pegasus` and `bigbird` do not have summarization mode**."
   ]
  },
  {
   "cell_type": "code",
   "execution_count": null,
   "id": "regulated-hebrew",
   "metadata": {},
   "outputs": [],
   "source": [
    "pprint(bigbird.nucleus_decoder([string], temperature = 0.3))"
   ]
  },
  {
   "cell_type": "code",
   "execution_count": 9,
   "id": "focal-grant",
   "metadata": {},
   "outputs": [
    {
     "name": "stdout",
     "output_type": "stream",
     "text": [
      "['- Perbicaraan kes 1MDB yang melibatkan bekas Timbalan Ketua Setiausaha '\n",
      " 'Kabinet, Tan Sri Muhammad Shafee Abdullah pada hari Isnin akan menjadi kes '\n",
      " 'yang tidak dapat diselesaikan, kata hakim. Perbicaraan kes itu akan '\n",
      " 'dibentangkan kepada Jawatankuasa Kira-Kira Wang Negara, yang akan '\n",
      " 'dibentangkan ke Mahkamah Tinggi pada akhir bulan depan, kata hakim. \"Tidak '\n",
      " 'ada bukti kukuh bahawa Najib terlibat dalam kes 1MDB dan tidak ada bukti '\n",
      " 'kukuh bahawa Najib terlibat dalam kes 1MDB dan tidak ada merit terhadapnya,\" '\n",
      " 'kata hakim. \" Perbicaraan kes itu akan dibentangkan ke Mahkamah Tinggi pada '\n",
      " 'akhir bulan ini, kata hakim.']\n"
     ]
    }
   ],
   "source": [
    "pprint(bigbird_small.nucleus_decoder([string], temperature = 0.3))"
   ]
  }
 ],
 "metadata": {
  "kernelspec": {
   "display_name": "Python 3",
   "language": "python",
   "name": "python3"
  },
  "language_info": {
   "codemirror_mode": {
    "name": "ipython",
    "version": 3
   },
   "file_extension": ".py",
   "mimetype": "text/x-python",
   "name": "python",
   "nbconvert_exporter": "python",
   "pygments_lexer": "ipython3",
   "version": "3.7.7"
  }
 },
 "nbformat": 4,
 "nbformat_minor": 5
}
