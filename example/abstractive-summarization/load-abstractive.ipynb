{
 "cells": [
  {
   "cell_type": "markdown",
   "metadata": {},
   "source": [
    "# Abstractive"
   ]
  },
  {
   "cell_type": "markdown",
   "metadata": {},
   "source": [
    "<div class=\"alert alert-info\">\n",
    "\n",
    "This tutorial is available as an IPython notebook at [Malaya/example/abstractive-summarization](https://github.com/huseinzol05/Malaya/tree/master/example/abstractive-summarization).\n",
    "    \n",
    "</div>"
   ]
  },
  {
   "cell_type": "markdown",
   "metadata": {},
   "source": [
    "<div class=\"alert alert-warning\">\n",
    "\n",
    "This module only trained on standard language structure, so it is not save to use it for local language structure.\n",
    "    \n",
    "</div>"
   ]
  },
  {
   "cell_type": "markdown",
   "metadata": {},
   "source": [
    "<div class=\"alert alert-warning\">\n",
    "\n",
    "This module trained heavily on news structure.\n",
    "    \n",
    "</div>"
   ]
  },
  {
   "cell_type": "code",
   "execution_count": 1,
   "metadata": {},
   "outputs": [
    {
     "name": "stdout",
     "output_type": "stream",
     "text": [
      "CPU times: user 5.1 s, sys: 980 ms, total: 6.08 s\n",
      "Wall time: 6.68 s\n"
     ]
    }
   ],
   "source": [
    "%%time\n",
    "import malaya\n",
    "from pprint import pprint"
   ]
  },
  {
   "cell_type": "code",
   "execution_count": 2,
   "metadata": {},
   "outputs": [],
   "source": [
    "import re\n",
    "\n",
    "# minimum cleaning, just simply to remove newlines.\n",
    "def cleaning(string):\n",
    "    string = string.replace('\\n', ' ')\n",
    "    string = re.sub(r'[ ]+', ' ', string).strip()\n",
    "    return string"
   ]
  },
  {
   "cell_type": "markdown",
   "metadata": {},
   "source": [
    "I am going to simply copy paste some local news into this notebook. I will search about `isu mahathir` in google news, [link here](https://www.google.com/search?q=isu+mahathir&sxsrf=ALeKk02V_bAJC3sSrV38JQgGYWL_mE0biw:1589951900053&source=lnms&tbm=nws&sa=X&ved=2ahUKEwjapNmx2MHpAhVp_XMBHRt7BEQQ_AUoAnoECCcQBA&biw=1440&bih=648&dpr=2)."
   ]
  },
  {
   "cell_type": "markdown",
   "metadata": {},
   "source": [
    "**link**: https://www.hmetro.com.my/mutakhir/2020/05/580438/peletakan-jawatan-tun-m-ditolak-bukan-lagi-isu\n",
    "\n",
    "**Title**: Peletakan jawatan Tun M ditolak, bukan lagi isu.\n",
    "\n",
    "**Body**: PELETAKAN jawatan Tun Dr Mahathir Mohamad sebagai Pengerusi Parti Pribumi Bersatu Malaysia (Bersatu) ditolak di dalam mesyuarat khas Majlis Pimpinan Tertinggi (MPT) pada 24 Februari lalu.\n",
    "\n",
    "Justeru, tidak timbul soal peletakan jawatan itu sah atau tidak kerana ia sudah pun diputuskan pada peringkat parti yang dipersetujui semua termasuk Presiden, Tan Sri Muhyiddin Yassin.\n",
    "\n",
    "Bekas Setiausaha Agung Bersatu Datuk Marzuki Yahya berkata, pada mesyuarat itu MPT sebulat suara menolak peletakan jawatan Dr Mahathir.\n",
    "\n",
    "\"Jadi ini agak berlawanan dengan keputusan yang kita sudah buat. Saya tak faham bagaimana Jabatan Pendaftar Pertubuhan Malaysia (JPPM) kata peletakan jawatan itu sah sedangkan kita sudah buat keputusan di dalam mesyuarat, bukan seorang dua yang buat keputusan.\n",
    "\n",
    "\"Semua keputusan mesti dibuat melalui parti. Walau apa juga perbincangan dibuat di luar daripada keputusan mesyuarat, ini bukan keputusan parti.\n",
    "\n",
    "\"Apa locus standy yang ada pada Setiausaha Kerja untuk membawa perkara ini kepada JPPM. Seharusnya ia dibawa kepada Setiausaha Agung sebagai pentadbir kepada parti,\" katanya kepada Harian Metro.\n",
    "\n",
    "Beliau mengulas laporan media tempatan hari ini mengenai pengesahan JPPM bahawa Dr Mahathir tidak lagi menjadi Pengerusi Bersatu berikutan peletakan jawatannya di tengah-tengah pergolakan politik pada akhir Februari adalah sah.\n",
    "\n",
    "Laporan itu juga menyatakan, kedudukan Muhyiddin Yassin memangku jawatan itu juga sah.\n",
    "\n",
    "Menurutnya, memang betul Dr Mahathir menghantar surat peletakan jawatan, tetapi ditolak oleh MPT.\n",
    "\n",
    "\"Fasal yang disebut itu terpakai sekiranya berhenti atau diberhentikan, tetapi ini mesyuarat sudah menolak,\" katanya.\n",
    "\n",
    "Marzuki turut mempersoal kenyataan media yang dibuat beberapa pimpinan parti itu hari ini yang menyatakan sokongan kepada Perikatan Nasional.\n",
    "\n",
    "\"Kenyataan media bukanlah keputusan rasmi. Walaupun kita buat 1,000 kenyataan sekali pun ia tetap tidak merubah keputusan yang sudah dibuat di dalam mesyuarat. Kita catat di dalam minit apa yang berlaku di dalam mesyuarat,\" katanya."
   ]
  },
  {
   "cell_type": "code",
   "execution_count": 3,
   "metadata": {},
   "outputs": [],
   "source": [
    "string = \"\"\"\n",
    "PELETAKAN jawatan Tun Dr Mahathir Mohamad sebagai Pengerusi Parti Pribumi Bersatu Malaysia (Bersatu) ditolak di dalam mesyuarat khas Majlis Pimpinan Tertinggi (MPT) pada 24 Februari lalu.\n",
    "\n",
    "Justeru, tidak timbul soal peletakan jawatan itu sah atau tidak kerana ia sudah pun diputuskan pada peringkat parti yang dipersetujui semua termasuk Presiden, Tan Sri Muhyiddin Yassin.\n",
    "\n",
    "Bekas Setiausaha Agung Bersatu Datuk Marzuki Yahya berkata, pada mesyuarat itu MPT sebulat suara menolak peletakan jawatan Dr Mahathir.\n",
    "\n",
    "\"Jadi ini agak berlawanan dengan keputusan yang kita sudah buat. Saya tak faham bagaimana Jabatan Pendaftar Pertubuhan Malaysia (JPPM) kata peletakan jawatan itu sah sedangkan kita sudah buat keputusan di dalam mesyuarat, bukan seorang dua yang buat keputusan.\n",
    "\n",
    "\"Semua keputusan mesti dibuat melalui parti. Walau apa juga perbincangan dibuat di luar daripada keputusan mesyuarat, ini bukan keputusan parti.\n",
    "\n",
    "\"Apa locus standy yang ada pada Setiausaha Kerja untuk membawa perkara ini kepada JPPM. Seharusnya ia dibawa kepada Setiausaha Agung sebagai pentadbir kepada parti,\" katanya kepada Harian Metro.\n",
    "\n",
    "Beliau mengulas laporan media tempatan hari ini mengenai pengesahan JPPM bahawa Dr Mahathir tidak lagi menjadi Pengerusi Bersatu berikutan peletakan jawatannya di tengah-tengah pergolakan politik pada akhir Februari adalah sah.\n",
    "\n",
    "Laporan itu juga menyatakan, kedudukan Muhyiddin Yassin memangku jawatan itu juga sah.\n",
    "\n",
    "Menurutnya, memang betul Dr Mahathir menghantar surat peletakan jawatan, tetapi ditolak oleh MPT.\n",
    "\n",
    "\"Fasal yang disebut itu terpakai sekiranya berhenti atau diberhentikan, tetapi ini mesyuarat sudah menolak,\" katanya.\n",
    "\n",
    "Marzuki turut mempersoal kenyataan media yang dibuat beberapa pimpinan parti itu hari ini yang menyatakan sokongan kepada Perikatan Nasional.\n",
    "\n",
    "\"Kenyataan media bukanlah keputusan rasmi. Walaupun kita buat 1,000 kenyataan sekali pun ia tetap tidak merubah keputusan yang sudah dibuat di dalam mesyuarat. Kita catat di dalam minit apa yang berlaku di dalam mesyuarat,\" katanya.\n",
    "\"\"\"\n",
    "\n",
    "string = cleaning(string)"
   ]
  },
  {
   "cell_type": "markdown",
   "metadata": {},
   "source": [
    "**Link**: https://www.malaysiakini.com/news/525953\n",
    "\n",
    "**Title**: Mahathir jangan hipokrit isu kes mahkamah Riza, kata Takiyuddin\n",
    "\n",
    "**Body**: Menteri undang-undang Takiyuddin Hassan berkata kerajaan berharap Dr Mahathir Mohamad tidak bersikap hipokrit dengan mengatakan beliau tertanya-tanya dan tidak faham dengan keputusan mahkamah melepas tanpa membebaskan (DNAA) Riza Aziz, anak tiri bekas perdana menteri Najib Razak, dalam kes pengubahan wang haram membabitkan dana 1MDB.\n",
    "\n",
    "Pemimpin PAS itu berkata ini kerana keputusan itu dibuat oleh peguam negara dan dilaksanakan oleh timbalan pendakwa raya yang mengendalikan kes tersebut pada akhir 2019.\n",
    "\n",
    "“Saya merujuk kepada kenyataan Dr Mahathir tentang tindakan Mahkamah Sesyen memberikan pelepasan tanpa pembebasan (discharge not amounting to acquittal) kepada Riza Aziz baru-baru ini.\n",
    "\n",
    "“Kerajaan berharap Dr Mahathir tidak bersikap hipokrit dengan mengatakan beliau ‘tertanya-tanya’, keliru dan tidak faham terhadap suatu keputusan yang dibuat oleh Peguam Negara dan dilaksanakan oleh Timbalan Pendakwa Raya yang mengendalikan kes ini pada akhir tahun 2019,” katanya dalam satu kenyataan hari ini.\n",
    "\n",
    "Riza pada Khamis dilepas tanpa dibebaskan daripada lima pertuduhan pengubahan wang berjumlah AS$248 juta (RM1.08 bilion).\n",
    "\n",
    "Dalam persetujuan yang dicapai antara pihak Riza dan pendakwaan, beliau dilepas tanpa dibebaskan atas pertuduhan itu dengan syarat memulangkan semula aset dari luar negara dengan nilai anggaran AS$107.3 juta (RM465.3 juta).\n",
    "\n",
    "Ekoran itu, Mahathir antara lain menyuarakan kekhuatirannya berkenaan persetujuan itu dan mempersoalkan jika pihak yang didakwa atas tuduhan mencuri boleh terlepas daripada tindakan jika memulangkan semula apa yang dicurinya.\n",
    "\n",
    "\"Dia curi berbilion-bilion...Dia bagi balik kepada kerajaan. Dia kata kepada kerajaan, 'Nah, duit yang aku curi. Sekarang ini, jangan ambil tindakan terhadap aku.' Kita pun kata, 'Sudah bagi balik duit okey lah',\" katanya.\n",
    "\n",
    "Menjelaskan bahawa beliau tidak mempersoalkan keputusan mahkamah, Mahathir pada masa sama berkata ia menunjukkan undang-undang mungkin perlu dipinda.\n",
    "\n",
    "Mengulas lanjut, Takiyuddin yang juga setiausaha agung PAS berkata\n",
    "kenyataan Mahathir tidak munasabah sebagai bekas perdana menteri.\n",
    "\n",
    "\"Kerajaan berharap Dr Mahathir tidak terus bertindak mengelirukan rakyat dengan mengatakan beliau ‘keliru’.\n",
    "\n",
    "“Kerajaan PN akan terus bertindak mengikut undang-undang dan berpegang kepada prinsip kebebasan badan kehakiman dan proses perundangan yang sah,” katanya."
   ]
  },
  {
   "cell_type": "code",
   "execution_count": 4,
   "metadata": {},
   "outputs": [],
   "source": [
    "string2 = \"\"\"\n",
    "Menteri undang-undang Takiyuddin Hassan berkata kerajaan berharap Dr Mahathir Mohamad tidak bersikap hipokrit dengan mengatakan beliau tertanya-tanya dan tidak faham dengan keputusan mahkamah melepas tanpa membebaskan (DNAA) Riza Aziz, anak tiri bekas perdana menteri Najib Razak, dalam kes pengubahan wang haram membabitkan dana 1MDB.\n",
    "\n",
    "Pemimpin PAS itu berkata ini kerana keputusan itu dibuat oleh peguam negara dan dilaksanakan oleh timbalan pendakwa raya yang mengendalikan kes tersebut pada akhir 2019.\n",
    "\n",
    "“Saya merujuk kepada kenyataan Dr Mahathir tentang tindakan Mahkamah Sesyen memberikan pelepasan tanpa pembebasan (discharge not amounting to acquittal) kepada Riza Aziz baru-baru ini.\n",
    "\n",
    "“Kerajaan berharap Dr Mahathir tidak bersikap hipokrit dengan mengatakan beliau ‘tertanya-tanya’, keliru dan tidak faham terhadap suatu keputusan yang dibuat oleh Peguam Negara dan dilaksanakan oleh Timbalan Pendakwa Raya yang mengendalikan kes ini pada akhir tahun 2019,” katanya dalam satu kenyataan hari ini.\n",
    "\n",
    "Riza pada Khamis dilepas tanpa dibebaskan daripada lima pertuduhan pengubahan wang berjumlah AS$248 juta (RM1.08 bilion).\n",
    "\n",
    "Dalam persetujuan yang dicapai antara pihak Riza dan pendakwaan, beliau dilepas tanpa dibebaskan atas pertuduhan itu dengan syarat memulangkan semula aset dari luar negara dengan nilai anggaran AS$107.3 juta (RM465.3 juta).\n",
    "\n",
    "Ekoran itu, Mahathir antara lain menyuarakan kekhuatirannya berkenaan persetujuan itu dan mempersoalkan jika pihak yang didakwa atas tuduhan mencuri boleh terlepas daripada tindakan jika memulangkan semula apa yang dicurinya.\n",
    "\n",
    "\"Dia curi berbilion-bilion...Dia bagi balik kepada kerajaan. Dia kata kepada kerajaan, 'Nah, duit yang aku curi. Sekarang ini, jangan ambil tindakan terhadap aku.' Kita pun kata, 'Sudah bagi balik duit okey lah',\" katanya.\n",
    "\n",
    "Menjelaskan bahawa beliau tidak mempersoalkan keputusan mahkamah, Mahathir pada masa sama berkata ia menunjukkan undang-undang mungkin perlu dipinda.\n",
    "\n",
    "Mengulas lanjut, Takiyuddin yang juga setiausaha agung PAS berkata\n",
    "kenyataan Mahathir tidak munasabah sebagai bekas perdana menteri.\n",
    "\n",
    "\"Kerajaan berharap Dr Mahathir tidak terus bertindak mengelirukan rakyat dengan mengatakan beliau ‘keliru’.\n",
    "\n",
    "“Kerajaan PN akan terus bertindak mengikut undang-undang dan berpegang kepada prinsip kebebasan badan kehakiman dan proses perundangan yang sah,” katanya.\n",
    "\"\"\"\n",
    "\n",
    "string2 = cleaning(string2)"
   ]
  },
  {
   "cell_type": "markdown",
   "metadata": {},
   "source": [
    "### List available Transformer models"
   ]
  },
  {
   "cell_type": "code",
   "execution_count": 5,
   "metadata": {
    "scrolled": true
   },
   "outputs": [
    {
     "name": "stderr",
     "output_type": "stream",
     "text": [
      "INFO:root:tested on 5k CNN test set.\n"
     ]
    },
    {
     "data": {
      "text/html": [
       "<div>\n",
       "<style scoped>\n",
       "    .dataframe tbody tr th:only-of-type {\n",
       "        vertical-align: middle;\n",
       "    }\n",
       "\n",
       "    .dataframe tbody tr th {\n",
       "        vertical-align: top;\n",
       "    }\n",
       "\n",
       "    .dataframe thead th {\n",
       "        text-align: right;\n",
       "    }\n",
       "</style>\n",
       "<table border=\"1\" class=\"dataframe\">\n",
       "  <thead>\n",
       "    <tr style=\"text-align: right;\">\n",
       "      <th></th>\n",
       "      <th>Size (MB)</th>\n",
       "      <th>Quantized Size (MB)</th>\n",
       "      <th>ROUGE-1</th>\n",
       "      <th>ROUGE-2</th>\n",
       "      <th>ROUGE-L</th>\n",
       "      <th>Suggested length</th>\n",
       "    </tr>\n",
       "  </thead>\n",
       "  <tbody>\n",
       "    <tr>\n",
       "      <th>t2t</th>\n",
       "      <td>832.0</td>\n",
       "      <td>279.0</td>\n",
       "      <td>0.33209</td>\n",
       "      <td>0.13622</td>\n",
       "      <td>0.23348</td>\n",
       "      <td>1024.0</td>\n",
       "    </tr>\n",
       "    <tr>\n",
       "      <th>small-t2t</th>\n",
       "      <td>379.0</td>\n",
       "      <td>120.0</td>\n",
       "      <td>0.33000</td>\n",
       "      <td>0.13417</td>\n",
       "      <td>0.23059</td>\n",
       "      <td>1024.0</td>\n",
       "    </tr>\n",
       "    <tr>\n",
       "      <th>t2t-distill</th>\n",
       "      <td>164.0</td>\n",
       "      <td>48.8</td>\n",
       "      <td>0.28079</td>\n",
       "      <td>0.08540</td>\n",
       "      <td>0.20136</td>\n",
       "      <td>1024.0</td>\n",
       "    </tr>\n",
       "    <tr>\n",
       "      <th>t5</th>\n",
       "      <td>1250.0</td>\n",
       "      <td>481.0</td>\n",
       "      <td>0.34103</td>\n",
       "      <td>0.14994</td>\n",
       "      <td>0.23655</td>\n",
       "      <td>1024.0</td>\n",
       "    </tr>\n",
       "    <tr>\n",
       "      <th>small-t5</th>\n",
       "      <td>355.6</td>\n",
       "      <td>195.0</td>\n",
       "      <td>0.33854</td>\n",
       "      <td>0.14588</td>\n",
       "      <td>0.23528</td>\n",
       "      <td>1024.0</td>\n",
       "    </tr>\n",
       "    <tr>\n",
       "      <th>bigbird</th>\n",
       "      <td>910.0</td>\n",
       "      <td>230.0</td>\n",
       "      <td>0.30683</td>\n",
       "      <td>0.09940</td>\n",
       "      <td>0.20232</td>\n",
       "      <td>2048.0</td>\n",
       "    </tr>\n",
       "    <tr>\n",
       "      <th>small-bigbird</th>\n",
       "      <td>303.0</td>\n",
       "      <td>77.3</td>\n",
       "      <td>0.27540</td>\n",
       "      <td>0.08540</td>\n",
       "      <td>0.18890</td>\n",
       "      <td>2048.0</td>\n",
       "    </tr>\n",
       "    <tr>\n",
       "      <th>pegasus</th>\n",
       "      <td>894.0</td>\n",
       "      <td>225.0</td>\n",
       "      <td>0.30352</td>\n",
       "      <td>0.10379</td>\n",
       "      <td>0.20590</td>\n",
       "      <td>1024.0</td>\n",
       "    </tr>\n",
       "    <tr>\n",
       "      <th>small-pegasus</th>\n",
       "      <td>293.0</td>\n",
       "      <td>74.2</td>\n",
       "      <td>0.29450</td>\n",
       "      <td>0.11480</td>\n",
       "      <td>0.20970</td>\n",
       "      <td>1024.0</td>\n",
       "    </tr>\n",
       "  </tbody>\n",
       "</table>\n",
       "</div>"
      ],
      "text/plain": [
       "               Size (MB)  Quantized Size (MB)  ROUGE-1  ROUGE-2  ROUGE-L  \\\n",
       "t2t                832.0                279.0  0.33209  0.13622  0.23348   \n",
       "small-t2t          379.0                120.0  0.33000  0.13417  0.23059   \n",
       "t2t-distill        164.0                 48.8  0.28079  0.08540  0.20136   \n",
       "t5                1250.0                481.0  0.34103  0.14994  0.23655   \n",
       "small-t5           355.6                195.0  0.33854  0.14588  0.23528   \n",
       "bigbird            910.0                230.0  0.30683  0.09940  0.20232   \n",
       "small-bigbird      303.0                 77.3  0.27540  0.08540  0.18890   \n",
       "pegasus            894.0                225.0  0.30352  0.10379  0.20590   \n",
       "small-pegasus      293.0                 74.2  0.29450  0.11480  0.20970   \n",
       "\n",
       "               Suggested length  \n",
       "t2t                      1024.0  \n",
       "small-t2t                1024.0  \n",
       "t2t-distill              1024.0  \n",
       "t5                       1024.0  \n",
       "small-t5                 1024.0  \n",
       "bigbird                  2048.0  \n",
       "small-bigbird            2048.0  \n",
       "pegasus                  1024.0  \n",
       "small-pegasus            1024.0  "
      ]
     },
     "execution_count": 5,
     "metadata": {},
     "output_type": "execute_result"
    }
   ],
   "source": [
    "malaya.summarization.abstractive.available_transformer()"
   ]
  },
  {
   "cell_type": "markdown",
   "metadata": {},
   "source": [
    "1. `t2t` is multitasks Transformer using Tensor2Tensor library.\n",
    "2. `t5` is multitasks Transformer from T5 paper.\n",
    "3. `pegasus` is Sentence Gap Pegasus.\n",
    "4. `bigbird` is Finetuning Sentence Gap Pegasus."
   ]
  },
  {
   "cell_type": "markdown",
   "metadata": {},
   "source": [
    "### Load T5 Transformer\n",
    "\n",
    "```python\n",
    "def transformer(model: str = 't2t', quantized: bool = False, **kwargs):\n",
    "\n",
    "    \"\"\"\n",
    "    Load Malaya transformer encoder-decoder model to generate a summary given a string.\n",
    "\n",
    "    Parameters\n",
    "    ----------\n",
    "    model : str, optional (default='t2t')\n",
    "        Model architecture supported. Allowed values:\n",
    "\n",
    "        * ``'t2t'`` - Malaya Transformer BASE parameters.\n",
    "        * ``'small-t2t'`` - Malaya Transformer SMALL parameters.\n",
    "        * ``'t2t-distill'`` - Distilled Malaya Transformer BASE parameters.\n",
    "        * ``'t5'`` - T5 BASE parameters.\n",
    "        * ``'small-t5'`` - T5 SMALL parameters.\n",
    "        * ``'bigbird'`` - BigBird + Pegasus BASE parameters.\n",
    "        * ``'small-bigbird'`` - BigBird + Pegasus SMALL parameters.\n",
    "        * ``'pegasus'`` - Pegasus BASE parameters.\n",
    "        * ``'small-pegasus'`` - Pegasus SMALL parameters.\n",
    "    \n",
    "    quantized : bool, optional (default=False)\n",
    "        if True, will load 8-bit quantized model. \n",
    "        Quantized model not necessary faster, totally depends on the machine.\n",
    "\n",
    "    Returns\n",
    "    -------\n",
    "    result: model\n",
    "        List of model classes:\n",
    "        \n",
    "        * if `t2t` in model, will return `malaya.model.tf.Summarization`.\n",
    "        * if `t5` in model, will return `malaya.model.t5.Summarization`.\n",
    "        * if `bigbird` in model, will return `malaya.model.bigbird.Summarization`.\n",
    "        * if `pegasus` in model, will return `malaya.model.pegasus.Summarization`.\n",
    "    \"\"\"\n",
    "```\n",
    "\n",
    "For T5, I am going to use `quantized` model, `normal` model is too big, 1.25GB."
   ]
  },
  {
   "cell_type": "code",
   "execution_count": 6,
   "metadata": {},
   "outputs": [],
   "source": [
    "# !pip3 install install tensorflow-text==1.15.1"
   ]
  },
  {
   "cell_type": "code",
   "execution_count": 7,
   "metadata": {},
   "outputs": [
    {
     "name": "stderr",
     "output_type": "stream",
     "text": [
      "WARNING:root:Load quantized model will cause accuracy drop.\n"
     ]
    },
    {
     "name": "stdout",
     "output_type": "stream",
     "text": [
      "WARNING:tensorflow:From /Users/huseinzolkepli/Documents/Malaya/malaya/function/__init__.py:110: The name tf.gfile.GFile is deprecated. Please use tf.io.gfile.GFile instead.\n",
      "\n"
     ]
    },
    {
     "name": "stderr",
     "output_type": "stream",
     "text": [
      "WARNING:tensorflow:From /Users/huseinzolkepli/Documents/Malaya/malaya/function/__init__.py:110: The name tf.gfile.GFile is deprecated. Please use tf.io.gfile.GFile instead.\n",
      "\n"
     ]
    },
    {
     "name": "stdout",
     "output_type": "stream",
     "text": [
      "WARNING:tensorflow:From /Users/huseinzolkepli/Documents/Malaya/malaya/function/__init__.py:112: The name tf.GraphDef is deprecated. Please use tf.compat.v1.GraphDef instead.\n",
      "\n"
     ]
    },
    {
     "name": "stderr",
     "output_type": "stream",
     "text": [
      "WARNING:tensorflow:From /Users/huseinzolkepli/Documents/Malaya/malaya/function/__init__.py:112: The name tf.GraphDef is deprecated. Please use tf.compat.v1.GraphDef instead.\n",
      "\n"
     ]
    },
    {
     "name": "stdout",
     "output_type": "stream",
     "text": [
      "WARNING:tensorflow:From /Users/huseinzolkepli/Documents/Malaya/malaya/function/__init__.py:105: The name tf.InteractiveSession is deprecated. Please use tf.compat.v1.InteractiveSession instead.\n",
      "\n"
     ]
    },
    {
     "name": "stderr",
     "output_type": "stream",
     "text": [
      "WARNING:tensorflow:From /Users/huseinzolkepli/Documents/Malaya/malaya/function/__init__.py:105: The name tf.InteractiveSession is deprecated. Please use tf.compat.v1.InteractiveSession instead.\n",
      "\n"
     ]
    }
   ],
   "source": [
    "t5 = malaya.summarization.abstractive.transformer(model = 't5', quantized = True)"
   ]
  },
  {
   "cell_type": "markdown",
   "metadata": {},
   "source": [
    "### Load T2T Transformer\n",
    "\n",
    "```python\n",
    "def transformer(model: str = 't2t', quantized: bool = False, **kwargs):\n",
    "\n",
    "    \"\"\"\n",
    "    Load Malaya transformer encoder-decoder model to generate a summary given a string.\n",
    "\n",
    "    Parameters\n",
    "    ----------\n",
    "    model : str, optional (default='t2t')\n",
    "        Model architecture supported. Allowed values:\n",
    "\n",
    "        * ``'t2t'`` - Malaya Transformer BASE parameters.\n",
    "        * ``'small-t2t'`` - Malaya Transformer SMALL parameters.\n",
    "        * ``'t2t-distill'`` - Distilled Malaya Transformer BASE parameters.\n",
    "        * ``'t5'`` - T5 BASE parameters.\n",
    "        * ``'small-t5'`` - T5 SMALL parameters.\n",
    "        * ``'bigbird'`` - BigBird + Pegasus BASE parameters.\n",
    "        * ``'small-bigbird'`` - BigBird + Pegasus SMALL parameters.\n",
    "        * ``'pegasus'`` - Pegasus BASE parameters.\n",
    "        * ``'small-pegasus'`` - Pegasus SMALL parameters.\n",
    "    \n",
    "    quantized : bool, optional (default=False)\n",
    "        if True, will load 8-bit quantized model. \n",
    "        Quantized model not necessary faster, totally depends on the machine.\n",
    "\n",
    "    Returns\n",
    "    -------\n",
    "    result: model\n",
    "        List of model classes:\n",
    "        \n",
    "        * if `t2t` in model, will return `malaya.model.tf.Summarization`.\n",
    "        * if `t5` in model, will return `malaya.model.t5.Summarization`.\n",
    "        * if `bigbird` in model, will return `malaya.model.bigbird.Summarization`.\n",
    "        * if `pegasus` in model, will return `malaya.model.pegasus.Summarization`.\n",
    "    \"\"\"\n",
    "```"
   ]
  },
  {
   "cell_type": "code",
   "execution_count": 8,
   "metadata": {
    "scrolled": true
   },
   "outputs": [],
   "source": [
    "model = malaya.summarization.abstractive.transformer(model = 'small-t2t')"
   ]
  },
  {
   "cell_type": "markdown",
   "metadata": {},
   "source": [
    "#### Load Quantized model\n",
    "\n",
    "To load 8-bit quantized model, simply pass `quantized = True`, default is `False`.\n",
    "\n",
    "We can expect slightly accuracy drop from quantized model, and not necessary faster than normal 32-bit float model, totally depends on machine."
   ]
  },
  {
   "cell_type": "code",
   "execution_count": 9,
   "metadata": {},
   "outputs": [
    {
     "name": "stderr",
     "output_type": "stream",
     "text": [
      "WARNING:root:Load quantized model will cause accuracy drop.\n"
     ]
    }
   ],
   "source": [
    "quantized_model = malaya.summarization.abstractive.transformer(model = 'small-t2t', quantized = True)"
   ]
  },
  {
   "cell_type": "markdown",
   "metadata": {},
   "source": [
    "#### summarization mode\n",
    "\n",
    "in Malaya provided 2 different modes for summarization,\n",
    "\n",
    "1. generate summary,\n",
    "\n",
    "```python\n",
    "model.summarize(string, mode = 'ringkasan')\n",
    "```\n",
    "\n",
    "2. generate title,\n",
    "\n",
    "```python\n",
    "model.summarize(string, mode = 'tajuk')\n",
    "```\n",
    "\n",
    "default is `ringkasan`. **`pegasus` and `bigbird` do not have summarization mode**."
   ]
  },
  {
   "cell_type": "markdown",
   "metadata": {},
   "source": [
    "#### Predict using greedy decoder\n",
    "\n",
    "```python\n",
    "def greedy_decoder(\n",
    "    self,\n",
    "    strings: List[str],\n",
    "    mode: str = 'ringkasan',\n",
    "    postprocess: bool = True,\n",
    "    **kwargs,\n",
    "):\n",
    "    \"\"\"\n",
    "    Summarize strings using greedy decoder.\n",
    "\n",
    "    Parameters\n",
    "    ----------\n",
    "    strings: List[str]\n",
    "    mode: str\n",
    "        mode for summarization. Allowed values:\n",
    "\n",
    "        * ``'ringkasan'`` - summarization for long sentence, eg, news summarization.\n",
    "        * ``'tajuk'`` - title summarization for long sentence, eg, news title.\n",
    "    postprocess: bool, optional (default=True)\n",
    "        If True, will filter sentence generated using ROUGE score and removed international news publisher.\n",
    "\n",
    "    Returns\n",
    "    -------\n",
    "    result: List[str]\n",
    "    \"\"\"\n",
    "```\n",
    "\n",
    "**For T5, we only provided `greedy_decoder` method to predict.**\n",
    "\n",
    "**`pegasus` and `bigbird` do not have summarization mode**."
   ]
  },
  {
   "cell_type": "code",
   "execution_count": 12,
   "metadata": {},
   "outputs": [
    {
     "name": "stdout",
     "output_type": "stream",
     "text": [
      "['Biar Tun M letak jawatan']\n"
     ]
    }
   ],
   "source": [
    "pprint(t5.greedy_decoder([string], mode = 'tajuk'))"
   ]
  },
  {
   "cell_type": "code",
   "execution_count": 18,
   "metadata": {},
   "outputs": [
    {
     "name": "stdout",
     "output_type": "stream",
     "text": [
      "['Kerajaan harap Dr M tak hipokrit']\n"
     ]
    }
   ],
   "source": [
    "pprint(t5.greedy_decoder([string2], mode = 'tajuk'))"
   ]
  },
  {
   "cell_type": "code",
   "execution_count": 13,
   "metadata": {},
   "outputs": [
    {
     "name": "stdout",
     "output_type": "stream",
     "text": [
      "['Tun M letak jawatan Pengerusi Bersatu']\n"
     ]
    }
   ],
   "source": [
    "pprint(model.greedy_decoder([string], mode = 'tajuk'))"
   ]
  },
  {
   "cell_type": "code",
   "execution_count": 14,
   "metadata": {},
   "outputs": [
    {
     "name": "stdout",
     "output_type": "stream",
     "text": [
      "['Peletakan jawatan Tun M ditolak']\n"
     ]
    }
   ],
   "source": [
    "pprint(quantized_model.greedy_decoder([string], mode = 'tajuk'))"
   ]
  },
  {
   "cell_type": "code",
   "execution_count": 17,
   "metadata": {},
   "outputs": [
    {
     "name": "stdout",
     "output_type": "stream",
     "text": [
      "['Kenyataan media yang dibuat beberapa pimpinan parti tidak mengubah keputusan '\n",
      " 'mesyuarat. Kenyataan media tidak mengubah keputusan mesyuarat. Marzuki '\n",
      " 'berkata peletakan jawatan Dr Mahathir adalah sah. Beliau berkata peletakan '\n",
      " 'jawatan itu sudah diputuskan oleh semua pihak.']\n"
     ]
    }
   ],
   "source": [
    "pprint(t5.greedy_decoder([string], mode = 'ringkasan'))"
   ]
  },
  {
   "cell_type": "code",
   "execution_count": 20,
   "metadata": {},
   "outputs": [
    {
     "name": "stdout",
     "output_type": "stream",
     "text": [
      "['\"Kerajaan berharap Dr Mahathir tidak bersikap hipokrit,\" kata menteri '\n",
      " 'undang-undang. Riza Aziz, anak tiri Najib Razak, dilepas tanpa dibebaskan '\n",
      " 'daripada lima pertuduhan pengubahan wang haram. Mahathir mengatakan Riza '\n",
      " 'adalah \"tertanya-tanya\" dan tidak faham. Mahathir juga mempersoalkan jika '\n",
      " 'pihak yang didakwa mencuri boleh terlepas daripada tindakan jika memulangkan '\n",
      " 'semula aset.']\n"
     ]
    }
   ],
   "source": [
    "pprint(t5.greedy_decoder([string2], mode = 'ringkasan'))"
   ]
  },
  {
   "cell_type": "code",
   "execution_count": 15,
   "metadata": {},
   "outputs": [
    {
     "name": "stdout",
     "output_type": "stream",
     "text": [
      "['- Tun M tidak lagi menjadi Pengerusi Bersatu, tetapi dia masih menjadi ketua '\n",
      " 'parti itu. Bekas setiausaha Agung Bersatu, Marzuki Yahya mengatakan bahawa '\n",
      " 'dia tidak faham bagaimana JPPM mengatakan peletakan jawatan itu sah Times. '\n",
      " '\"Jadi ini agak berlawanan dengan keputusan yang kita sudah buat,\" katanya. '\n",
      " '\"Saya tidak faham bagaimana Jabatan Pendaftar Pertubuhan Malaysia mengatakan '\n",
      " 'peletakan jawatan itu sah sedangkan kita sudah membuat keputusan di dalam '\n",
      " 'mesyuarat, bukan seorang dua yang membuat keputusan. \" Marzuki mengatakan '\n",
      " 'bahawa dia tidak faham bagaimana JPPM mengatakan peletakan jawatan itu sah, '\n",
      " 'tetapi \"apa pun perbincangan dibuat di luar dari keputusan mesyuarat, ini '\n",
      " 'bukan keputusan parti. \" (Dalam berita lain, seorang lelaki yang mengatakan '\n",
      " 'bahawa dia adalah \"pembersihan\" dengan J. Seharusnya membawa kepada '\n",
      " 'Setiausaha Agung.']\n"
     ]
    }
   ],
   "source": [
    "pprint(model.greedy_decoder([string], mode = 'ringkasan'))"
   ]
  },
  {
   "cell_type": "code",
   "execution_count": 16,
   "metadata": {},
   "outputs": [
    {
     "name": "stdout",
     "output_type": "stream",
     "text": [
      "['- Tun M tidak lagi menjadi Pengerusi Bersatu, tetapi dia masih menjadi ketua '\n",
      " 'parti itu. Bekas Setiausaha Agung Bersatu, Marzuki Yahya mengatakan bahawa '\n",
      " 'dia tidak faham bagaimana JPPM mengatakan peletakan jawatan itu sah Times. '\n",
      " '\"Jadi ini agak berlawanan dengan keputusan yang kita sudah buat,\" katanya. '\n",
      " '\"Saya tidak faham bagaimana Jabatan Pendaftar Pertubuhan Malaysia mengatakan '\n",
      " 'peletakan jawatan itu sah sedangkan kita sudah membuat keputusan di dalam '\n",
      " 'mesyuarat, bukan seorang dua yang membuat keputusan. \" Marzuki mengatakan '\n",
      " 'bahawa dia tidak faham bagaimana JPPM mengatakan peletakan jawatan itu sah. '\n",
      " '\"Apa locus standy yang ada pada Setiausaha Kerja untuk membawa perkara ini '\n",
      " 'kepada JPPM. Seharusnya ia dibawa kepada Setiausaha Agung sebagai pentadbir '\n",
      " 'kepada parti,\" katanya.']\n"
     ]
    }
   ],
   "source": [
    "pprint(quantized_model.greedy_decoder([string], mode = 'ringkasan'))"
   ]
  },
  {
   "cell_type": "markdown",
   "metadata": {},
   "source": [
    "#### Predict using beam decoder\n",
    "\n",
    "```python\n",
    "def beam_decoder(\n",
    "    self,\n",
    "    strings: List[str],\n",
    "    mode: str = 'ringkasan',\n",
    "    postprocess: bool = True,\n",
    "    **kwargs,\n",
    "):\n",
    "    \"\"\"\n",
    "    Summarize strings using beam decoder, beam width size 3, alpha 0.5 .\n",
    "\n",
    "    Parameters\n",
    "    ----------\n",
    "    strings: List[str]\n",
    "    mode: str\n",
    "        mode for summarization. Allowed values:\n",
    "\n",
    "        * ``'ringkasan'`` - summarization for long sentence, eg, news summarization.\n",
    "        * ``'tajuk'`` - title summarization for long sentence, eg, news title.\n",
    "    postprocess: bool, optional (default=True)\n",
    "        If True, will filter sentence generated using ROUGE score and removed international news publisher.\n",
    "\n",
    "    Returns\n",
    "    -------\n",
    "    result: List[str]\n",
    "    \"\"\"\n",
    "```\n",
    "\n",
    "**`pegasus` and `bigbird` do not have summarization mode**."
   ]
  },
  {
   "cell_type": "code",
   "execution_count": 13,
   "metadata": {},
   "outputs": [
    {
     "name": "stdout",
     "output_type": "stream",
     "text": [
      "['Najib salah guna kedudukan, pecah amanah, pengubahan wang haram']\n"
     ]
    }
   ],
   "source": [
    "pprint(model.beam_decoder([string], mode = 'tajuk'))"
   ]
  },
  {
   "cell_type": "code",
   "execution_count": 14,
   "metadata": {},
   "outputs": [
    {
     "name": "stdout",
     "output_type": "stream",
     "text": [
      "['Najib salah guna kedudukan, pecah amanah, pengubahan wang haram']\n"
     ]
    }
   ],
   "source": [
    "pprint(quantized_model.beam_decoder([string], mode = 'tajuk'))"
   ]
  },
  {
   "cell_type": "code",
   "execution_count": 15,
   "metadata": {},
   "outputs": [
    {
     "name": "stdout",
     "output_type": "stream",
     "text": [
      "['Kes Najib salah guna kedudukan, pecah amanah jenayah dan pengubahan wang '\n",
      " 'haram yang paling teruk. Hakim memerintah Najib dipenjara 12 tahun, denda '\n",
      " 'RM210 juta.']\n"
     ]
    }
   ],
   "source": [
    "pprint(model.beam_decoder([string], mode = 'ringkasan'))"
   ]
  },
  {
   "cell_type": "code",
   "execution_count": 16,
   "metadata": {},
   "outputs": [
    {
     "name": "stdout",
     "output_type": "stream",
     "text": [
      "['Kes Najib salah guna kedudukan, pecah amanah jenayah, pengubahan wang haram '\n",
      " 'yang paling teruk. Hakim mengatakan kes itu mempunyai elemen yang memberi '\n",
      " 'kesan kepada kepentingan awam. Najib diperintahkan dipenjara 10 tahun '\n",
      " 'masing-masing untuk tiga tuduhan pecah amanah wang RM42 juta.']\n"
     ]
    }
   ],
   "source": [
    "pprint(quantized_model.beam_decoder([string], mode = 'ringkasan'))"
   ]
  },
  {
   "cell_type": "markdown",
   "metadata": {},
   "source": [
    "#### Predict using nucleus decoder\n",
    "\n",
    "```python\n",
    "def nucleus_decoder(\n",
    "    self,\n",
    "    strings: List[str],\n",
    "    mode: str = 'ringkasan',\n",
    "    top_p: float = 0.7,\n",
    "    postprocess: bool = True,\n",
    "    **kwargs,\n",
    "):\n",
    "    \"\"\"\n",
    "    Summarize strings using nucleus sampling.\n",
    "\n",
    "    Parameters\n",
    "    ----------\n",
    "    strings: List[str]\n",
    "    mode: str\n",
    "        mode for summarization. Allowed values:\n",
    "\n",
    "        * ``'ringkasan'`` - summarization for long sentence, eg, news summarization.\n",
    "        * ``'tajuk'`` - title summarization for long sentence, eg, news title.\n",
    "    top_p: float, (default=0.7)\n",
    "        cumulative distribution and cut off as soon as the CDF exceeds `top_p`.\n",
    "    postprocess: bool, optional (default=True)\n",
    "        If True, will filter sentence generated using ROUGE score and removed international news publisher.\n",
    "\n",
    "    Returns\n",
    "    -------\n",
    "    result: List[str]\n",
    "    \"\"\"\n",
    "```\n",
    "\n",
    "**`pegasus` and `bigbird` do not have summarization mode**."
   ]
  },
  {
   "cell_type": "code",
   "execution_count": 17,
   "metadata": {},
   "outputs": [
    {
     "name": "stdout",
     "output_type": "stream",
     "text": [
      "['Najib salah guna kedudukan, pecah amanah, pengubahan wang haram']\n"
     ]
    }
   ],
   "source": [
    "pprint(model.nucleus_decoder([string], mode = 'tajuk'))"
   ]
  },
  {
   "cell_type": "code",
   "execution_count": 18,
   "metadata": {},
   "outputs": [
    {
     "name": "stdout",
     "output_type": "stream",
     "text": [
      "['Kes Najib salah guna kedudukan, pecah amanah jenayah dan keburukan wang '\n",
      " 'haram yang paling teruk. Hakim mencatatkan Najib ke atas tujuh tuduhan dan '\n",
      " 'didenda $210 juta. Kes ini juga membabitkan sejumlah wang yang sangat besar.']\n"
     ]
    }
   ],
   "source": [
    "pprint(model.nucleus_decoder([string], mode = 'ringkasan'))"
   ]
  }
 ],
 "metadata": {
  "kernelspec": {
   "display_name": "Python 3",
   "language": "python",
   "name": "python3"
  },
  "language_info": {
   "codemirror_mode": {
    "name": "ipython",
    "version": 3
   },
   "file_extension": ".py",
   "mimetype": "text/x-python",
   "name": "python",
   "nbconvert_exporter": "python",
   "pygments_lexer": "ipython3",
   "version": "3.7.7"
  }
 },
 "nbformat": 4,
 "nbformat_minor": 2
}
